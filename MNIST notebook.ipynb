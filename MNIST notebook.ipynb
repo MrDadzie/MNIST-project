{
 "cells": [
  {
   "cell_type": "code",
   "execution_count": 27,
   "id": "ebbcaff6",
   "metadata": {},
   "outputs": [],
   "source": [
    "import pandas as pd\n",
    "import numpy as np\n",
    "import matplotlib as mpl\n",
    "import matplotlib.pyplot as plt\n",
    "\n",
    "\n",
    "from sklearn.datasets import fetch_openml"
   ]
  },
  {
   "cell_type": "code",
   "execution_count": 28,
   "id": "bb14bcfb",
   "metadata": {},
   "outputs": [],
   "source": [
    "mnist=fetch_openml('mnist_784', version=1, cache=True)\n"
   ]
  },
  {
   "cell_type": "code",
   "execution_count": 29,
   "id": "d886de41",
   "metadata": {},
   "outputs": [
    {
     "data": {
      "text/plain": [
       "sklearn.utils.Bunch"
      ]
     },
     "execution_count": 29,
     "metadata": {},
     "output_type": "execute_result"
    }
   ],
   "source": [
    "type(mnist)"
   ]
  },
  {
   "cell_type": "code",
   "execution_count": 30,
   "id": "bafe53a8",
   "metadata": {},
   "outputs": [
    {
     "data": {
      "text/plain": [
       "dict_keys(['data', 'target', 'frame', 'categories', 'feature_names', 'target_names', 'DESCR', 'details', 'url'])"
      ]
     },
     "execution_count": 30,
     "metadata": {},
     "output_type": "execute_result"
    }
   ],
   "source": [
    "mnist.keys()"
   ]
  },
  {
   "cell_type": "code",
   "execution_count": 31,
   "id": "779e72ae",
   "metadata": {},
   "outputs": [],
   "source": [
    "x = mnist['data']\n",
    "y = mnist['target']"
   ]
  },
  {
   "cell_type": "code",
   "execution_count": 32,
   "id": "8eebdb82",
   "metadata": {},
   "outputs": [
    {
     "data": {
      "text/plain": [
       "array([  0.,   0.,   0.,   0.,   0.,   0.,   0.,   0.,   0.,   0.,   0.,\n",
       "         0.,   0.,   0.,   0.,   0.,   0.,   0.,   0.,   0.,   0.,   0.,\n",
       "         0.,   0.,   0.,   0.,   0.,   0.,   0.,   0.,   0.,   0.,   0.,\n",
       "         0.,   0.,   0.,   0.,   0.,   0.,   0.,   0.,   0.,   0.,   0.,\n",
       "         0.,   0.,   0.,   0.,   0.,   0.,   0.,   0.,   0.,   0.,   0.,\n",
       "         0.,   0.,   0.,   0.,   0.,   0.,   0.,   0.,   0.,   0.,   0.,\n",
       "         0.,   0.,   0.,   0.,   0.,   0.,   0.,   0.,   0.,   0.,   0.,\n",
       "         0.,   0.,   0.,   0.,   0.,   0.,   0.,   0.,   0.,   0.,   0.,\n",
       "         0.,   0.,   0.,   0.,   0.,   0.,   0.,   0.,   0.,   0.,   0.,\n",
       "         0.,   0.,   0.,   0.,   0.,   0.,   0.,   0.,   0.,   0.,   0.,\n",
       "         0.,   0.,   0.,   0.,   0.,   0.,   0.,   0.,   0.,   0.,   0.,\n",
       "         0.,   0.,   0.,   0.,   0.,   0.,   0.,   0.,   0.,   0.,   0.,\n",
       "         0.,   0.,   0.,   0.,   0.,   0.,   0.,   0.,   0.,   0.,   0.,\n",
       "         0.,   0.,   0.,   0.,   0.,   0.,   0.,   0.,   0.,   3.,  18.,\n",
       "        18.,  18., 126., 136., 175.,  26., 166., 255., 247., 127.,   0.,\n",
       "         0.,   0.,   0.,   0.,   0.,   0.,   0.,   0.,   0.,   0.,   0.,\n",
       "        30.,  36.,  94., 154., 170., 253., 253., 253., 253., 253., 225.,\n",
       "       172., 253., 242., 195.,  64.,   0.,   0.,   0.,   0.,   0.,   0.,\n",
       "         0.,   0.,   0.,   0.,   0.,  49., 238., 253., 253., 253., 253.,\n",
       "       253., 253., 253., 253., 251.,  93.,  82.,  82.,  56.,  39.,   0.,\n",
       "         0.,   0.,   0.,   0.,   0.,   0.,   0.,   0.,   0.,   0.,   0.,\n",
       "        18., 219., 253., 253., 253., 253., 253., 198., 182., 247., 241.,\n",
       "         0.,   0.,   0.,   0.,   0.,   0.,   0.,   0.,   0.,   0.,   0.,\n",
       "         0.,   0.,   0.,   0.,   0.,   0.,   0.,  80., 156., 107., 253.,\n",
       "       253., 205.,  11.,   0.,  43., 154.,   0.,   0.,   0.,   0.,   0.,\n",
       "         0.,   0.,   0.,   0.,   0.,   0.,   0.,   0.,   0.,   0.,   0.,\n",
       "         0.,   0.,   0.,  14.,   1., 154., 253.,  90.,   0.,   0.,   0.,\n",
       "         0.,   0.,   0.,   0.,   0.,   0.,   0.,   0.,   0.,   0.,   0.,\n",
       "         0.,   0.,   0.,   0.,   0.,   0.,   0.,   0.,   0.,   0.,   0.,\n",
       "       139., 253., 190.,   2.,   0.,   0.,   0.,   0.,   0.,   0.,   0.,\n",
       "         0.,   0.,   0.,   0.,   0.,   0.,   0.,   0.,   0.,   0.,   0.,\n",
       "         0.,   0.,   0.,   0.,   0.,   0.,  11., 190., 253.,  70.,   0.,\n",
       "         0.,   0.,   0.,   0.,   0.,   0.,   0.,   0.,   0.,   0.,   0.,\n",
       "         0.,   0.,   0.,   0.,   0.,   0.,   0.,   0.,   0.,   0.,   0.,\n",
       "         0.,   0.,  35., 241., 225., 160., 108.,   1.,   0.,   0.,   0.,\n",
       "         0.,   0.,   0.,   0.,   0.,   0.,   0.,   0.,   0.,   0.,   0.,\n",
       "         0.,   0.,   0.,   0.,   0.,   0.,   0.,   0.,   0.,  81., 240.,\n",
       "       253., 253., 119.,  25.,   0.,   0.,   0.,   0.,   0.,   0.,   0.,\n",
       "         0.,   0.,   0.,   0.,   0.,   0.,   0.,   0.,   0.,   0.,   0.,\n",
       "         0.,   0.,   0.,   0.,   0.,  45., 186., 253., 253., 150.,  27.,\n",
       "         0.,   0.,   0.,   0.,   0.,   0.,   0.,   0.,   0.,   0.,   0.,\n",
       "         0.,   0.,   0.,   0.,   0.,   0.,   0.,   0.,   0.,   0.,   0.,\n",
       "         0.,  16.,  93., 252., 253., 187.,   0.,   0.,   0.,   0.,   0.,\n",
       "         0.,   0.,   0.,   0.,   0.,   0.,   0.,   0.,   0.,   0.,   0.,\n",
       "         0.,   0.,   0.,   0.,   0.,   0.,   0.,   0.,   0., 249., 253.,\n",
       "       249.,  64.,   0.,   0.,   0.,   0.,   0.,   0.,   0.,   0.,   0.,\n",
       "         0.,   0.,   0.,   0.,   0.,   0.,   0.,   0.,   0.,   0.,   0.,\n",
       "         0.,  46., 130., 183., 253., 253., 207.,   2.,   0.,   0.,   0.,\n",
       "         0.,   0.,   0.,   0.,   0.,   0.,   0.,   0.,   0.,   0.,   0.,\n",
       "         0.,   0.,   0.,   0.,   0.,  39., 148., 229., 253., 253., 253.,\n",
       "       250., 182.,   0.,   0.,   0.,   0.,   0.,   0.,   0.,   0.,   0.,\n",
       "         0.,   0.,   0.,   0.,   0.,   0.,   0.,   0.,   0.,  24., 114.,\n",
       "       221., 253., 253., 253., 253., 201.,  78.,   0.,   0.,   0.,   0.,\n",
       "         0.,   0.,   0.,   0.,   0.,   0.,   0.,   0.,   0.,   0.,   0.,\n",
       "         0.,   0.,  23.,  66., 213., 253., 253., 253., 253., 198.,  81.,\n",
       "         2.,   0.,   0.,   0.,   0.,   0.,   0.,   0.,   0.,   0.,   0.,\n",
       "         0.,   0.,   0.,   0.,   0.,   0.,  18., 171., 219., 253., 253.,\n",
       "       253., 253., 195.,  80.,   9.,   0.,   0.,   0.,   0.,   0.,   0.,\n",
       "         0.,   0.,   0.,   0.,   0.,   0.,   0.,   0.,   0.,   0.,  55.,\n",
       "       172., 226., 253., 253., 253., 253., 244., 133.,  11.,   0.,   0.,\n",
       "         0.,   0.,   0.,   0.,   0.,   0.,   0.,   0.,   0.,   0.,   0.,\n",
       "         0.,   0.,   0.,   0.,   0., 136., 253., 253., 253., 212., 135.,\n",
       "       132.,  16.,   0.,   0.,   0.,   0.,   0.,   0.,   0.,   0.,   0.,\n",
       "         0.,   0.,   0.,   0.,   0.,   0.,   0.,   0.,   0.,   0.,   0.,\n",
       "         0.,   0.,   0.,   0.,   0.,   0.,   0.,   0.,   0.,   0.,   0.,\n",
       "         0.,   0.,   0.,   0.,   0.,   0.,   0.,   0.,   0.,   0.,   0.,\n",
       "         0.,   0.,   0.,   0.,   0.,   0.,   0.,   0.,   0.,   0.,   0.,\n",
       "         0.,   0.,   0.,   0.,   0.,   0.,   0.,   0.,   0.,   0.,   0.,\n",
       "         0.,   0.,   0.,   0.,   0.,   0.,   0.,   0.,   0.,   0.,   0.,\n",
       "         0.,   0.,   0.,   0.,   0.,   0.,   0.,   0.,   0.,   0.,   0.,\n",
       "         0.,   0.,   0.,   0.,   0.,   0.,   0.,   0.,   0.,   0.,   0.,\n",
       "         0.,   0.,   0.])"
      ]
     },
     "execution_count": 32,
     "metadata": {},
     "output_type": "execute_result"
    }
   ],
   "source": [
    "x.to_numpy()[0]"
   ]
  },
  {
   "cell_type": "code",
   "execution_count": 33,
   "id": "f26b7550",
   "metadata": {},
   "outputs": [
    {
     "data": {
      "text/plain": [
       "1    7877\n",
       "7    7293\n",
       "3    7141\n",
       "2    6990\n",
       "9    6958\n",
       "0    6903\n",
       "6    6876\n",
       "8    6825\n",
       "4    6824\n",
       "5    6313\n",
       "Name: class, dtype: int64"
      ]
     },
     "execution_count": 33,
     "metadata": {},
     "output_type": "execute_result"
    }
   ],
   "source": [
    "y.value_counts()"
   ]
  },
  {
   "cell_type": "code",
   "execution_count": 34,
   "id": "da676f42",
   "metadata": {},
   "outputs": [
    {
     "data": {
      "text/plain": [
       "1    7877\n",
       "7    7293\n",
       "3    7141\n",
       "2    6990\n",
       "9    6958\n",
       "0    6903\n",
       "6    6876\n",
       "8    6825\n",
       "4    6824\n",
       "5    6313\n",
       "Name: class, dtype: int64"
      ]
     },
     "execution_count": 34,
     "metadata": {},
     "output_type": "execute_result"
    }
   ],
   "source": [
    "y.value_counts()"
   ]
  },
  {
   "cell_type": "markdown",
   "id": "40e2f4fb",
   "metadata": {},
   "source": [
    "### split the data into two"
   ]
  },
  {
   "cell_type": "code",
   "execution_count": 35,
   "id": "4f5b07e4",
   "metadata": {},
   "outputs": [],
   "source": [
    "x_train, x_test, y_train,y_test = x[:60000], x[60000:],y[:60000],y[60000:]"
   ]
  },
  {
   "cell_type": "code",
   "execution_count": 36,
   "id": "69d95a15",
   "metadata": {},
   "outputs": [],
   "source": [
    "y_train = y_train.astype(np.int8)"
   ]
  },
  {
   "cell_type": "markdown",
   "id": "faf4a0f0",
   "metadata": {},
   "source": [
    "### shift functions"
   ]
  },
  {
   "cell_type": "code",
   "execution_count": 37,
   "id": "e509ad76",
   "metadata": {},
   "outputs": [
    {
     "name": "stderr",
     "output_type": "stream",
     "text": [
      "C:\\Users\\DELL\\AppData\\Local\\Temp\\ipykernel_7524\\987197595.py:1: DeprecationWarning: Please use `shift` from the `scipy.ndimage` namespace, the `scipy.ndimage.interpolation` namespace is deprecated.\n",
      "  from scipy.ndimage.interpolation import shift\n"
     ]
    }
   ],
   "source": [
    "from scipy.ndimage.interpolation import shift"
   ]
  },
  {
   "cell_type": "code",
   "execution_count": 38,
   "id": "64659a8b",
   "metadata": {},
   "outputs": [],
   "source": [
    "def shift_image_right(image, num_pixels):\n",
    "    shifted_image = shift(image, (0, num_pixels), cval=0)\n",
    "    return shifted_image\n",
    "\n",
    "def shift_image_left(image, num_pixels):\n",
    "    shifted_image = shift(image, (0, -num_pixels), cval=0)\n",
    "    return shifted_image\n",
    "\n",
    "def shift_image_up(image, num_pixels):\n",
    "    shifted_image = shift(image, (-num_pixels, 0), cval=0)\n",
    "    return shifted_image\n",
    "\n",
    "def shift_image_down(image, num_pixels):\n",
    "    shifted_imagedw = shift(image, (num_pixels, 0), cval=0)\n",
    "    return shifted_imagedw"
   ]
  },
  {
   "cell_type": "code",
   "execution_count": 39,
   "id": "c18855b0",
   "metadata": {},
   "outputs": [],
   "source": [
    "x_rshift = shift_image_right(x_train,1)\n",
    "x_lshift = shift_image_left(x_train,1)\n",
    "x_ushift = shift_image_up(x_train,1)\n",
    "x_dshift = shift_image_down(x_train,1)"
   ]
  },
  {
   "cell_type": "code",
   "execution_count": 40,
   "id": "8a56ef1b",
   "metadata": {},
   "outputs": [
    {
     "data": {
      "text/html": [
       "<div>\n",
       "<style scoped>\n",
       "    .dataframe tbody tr th:only-of-type {\n",
       "        vertical-align: middle;\n",
       "    }\n",
       "\n",
       "    .dataframe tbody tr th {\n",
       "        vertical-align: top;\n",
       "    }\n",
       "\n",
       "    .dataframe thead th {\n",
       "        text-align: right;\n",
       "    }\n",
       "</style>\n",
       "<table border=\"1\" class=\"dataframe\">\n",
       "  <thead>\n",
       "    <tr style=\"text-align: right;\">\n",
       "      <th></th>\n",
       "      <th>0</th>\n",
       "      <th>1</th>\n",
       "      <th>2</th>\n",
       "      <th>3</th>\n",
       "      <th>4</th>\n",
       "      <th>5</th>\n",
       "      <th>6</th>\n",
       "      <th>7</th>\n",
       "      <th>8</th>\n",
       "      <th>9</th>\n",
       "      <th>...</th>\n",
       "      <th>774</th>\n",
       "      <th>775</th>\n",
       "      <th>776</th>\n",
       "      <th>777</th>\n",
       "      <th>778</th>\n",
       "      <th>779</th>\n",
       "      <th>780</th>\n",
       "      <th>781</th>\n",
       "      <th>782</th>\n",
       "      <th>783</th>\n",
       "    </tr>\n",
       "  </thead>\n",
       "  <tbody>\n",
       "    <tr>\n",
       "      <th>0</th>\n",
       "      <td>0.0</td>\n",
       "      <td>-6.050559e-63</td>\n",
       "      <td>2.484492e-64</td>\n",
       "      <td>-7.705281e-63</td>\n",
       "      <td>-1.926006e-62</td>\n",
       "      <td>4.098996e-62</td>\n",
       "      <td>-1.641467e-61</td>\n",
       "      <td>-6.704701e-63</td>\n",
       "      <td>-4.631871e-60</td>\n",
       "      <td>1.666729e-59</td>\n",
       "      <td>...</td>\n",
       "      <td>-2.650094e-33</td>\n",
       "      <td>-1.642508e-33</td>\n",
       "      <td>-1.206340e-34</td>\n",
       "      <td>6.670655e-35</td>\n",
       "      <td>1.261862e-36</td>\n",
       "      <td>6.486907e-36</td>\n",
       "      <td>-1.261013e-37</td>\n",
       "      <td>-1.050304e-37</td>\n",
       "      <td>7.602508e-38</td>\n",
       "      <td>-5.801061e-38</td>\n",
       "    </tr>\n",
       "    <tr>\n",
       "      <th>1</th>\n",
       "      <td>0.0</td>\n",
       "      <td>2.033891e-63</td>\n",
       "      <td>-7.554452e-63</td>\n",
       "      <td>-2.894142e-62</td>\n",
       "      <td>-1.173355e-61</td>\n",
       "      <td>1.676859e-61</td>\n",
       "      <td>4.967257e-61</td>\n",
       "      <td>3.446125e-60</td>\n",
       "      <td>2.367917e-59</td>\n",
       "      <td>3.625433e-59</td>\n",
       "      <td>...</td>\n",
       "      <td>2.121610e-32</td>\n",
       "      <td>4.689517e-33</td>\n",
       "      <td>-1.166673e-33</td>\n",
       "      <td>-3.117138e-34</td>\n",
       "      <td>9.738101e-38</td>\n",
       "      <td>-1.367638e-35</td>\n",
       "      <td>-1.046723e-35</td>\n",
       "      <td>-4.451920e-36</td>\n",
       "      <td>-1.720482e-37</td>\n",
       "      <td>2.030371e-37</td>\n",
       "    </tr>\n",
       "    <tr>\n",
       "      <th>2</th>\n",
       "      <td>0.0</td>\n",
       "      <td>2.404680e-62</td>\n",
       "      <td>-1.013992e-62</td>\n",
       "      <td>-3.696616e-62</td>\n",
       "      <td>-3.087216e-61</td>\n",
       "      <td>-1.334035e-60</td>\n",
       "      <td>-1.667181e-60</td>\n",
       "      <td>1.422577e-59</td>\n",
       "      <td>1.140301e-58</td>\n",
       "      <td>1.270633e-58</td>\n",
       "      <td>...</td>\n",
       "      <td>-1.646441e-31</td>\n",
       "      <td>-2.809336e-32</td>\n",
       "      <td>-1.071641e-32</td>\n",
       "      <td>-8.781889e-34</td>\n",
       "      <td>1.698767e-34</td>\n",
       "      <td>3.016301e-35</td>\n",
       "      <td>1.369949e-36</td>\n",
       "      <td>4.683762e-37</td>\n",
       "      <td>-1.174584e-36</td>\n",
       "      <td>-5.660588e-37</td>\n",
       "    </tr>\n",
       "    <tr>\n",
       "      <th>3</th>\n",
       "      <td>0.0</td>\n",
       "      <td>6.829320e-62</td>\n",
       "      <td>4.082153e-62</td>\n",
       "      <td>-1.537916e-61</td>\n",
       "      <td>-7.091519e-61</td>\n",
       "      <td>-1.676862e-60</td>\n",
       "      <td>-1.560856e-59</td>\n",
       "      <td>-4.541398e-59</td>\n",
       "      <td>1.275667e-58</td>\n",
       "      <td>-2.657164e-58</td>\n",
       "      <td>...</td>\n",
       "      <td>-7.724205e-31</td>\n",
       "      <td>-1.892945e-31</td>\n",
       "      <td>-1.114558e-32</td>\n",
       "      <td>-3.012582e-33</td>\n",
       "      <td>-1.455995e-33</td>\n",
       "      <td>-5.041987e-34</td>\n",
       "      <td>-1.443474e-34</td>\n",
       "      <td>-1.679373e-35</td>\n",
       "      <td>-1.116336e-35</td>\n",
       "      <td>-5.508985e-36</td>\n",
       "    </tr>\n",
       "    <tr>\n",
       "      <th>4</th>\n",
       "      <td>0.0</td>\n",
       "      <td>-6.540072e-64</td>\n",
       "      <td>-1.531462e-61</td>\n",
       "      <td>-8.685036e-62</td>\n",
       "      <td>3.300905e-60</td>\n",
       "      <td>4.307675e-60</td>\n",
       "      <td>-8.525096e-59</td>\n",
       "      <td>-3.503247e-58</td>\n",
       "      <td>3.713855e-58</td>\n",
       "      <td>1.254421e-57</td>\n",
       "      <td>...</td>\n",
       "      <td>-7.932661e-31</td>\n",
       "      <td>-3.963316e-31</td>\n",
       "      <td>-4.807934e-32</td>\n",
       "      <td>-1.118194e-32</td>\n",
       "      <td>-5.583831e-33</td>\n",
       "      <td>-2.064288e-33</td>\n",
       "      <td>-5.779131e-34</td>\n",
       "      <td>3.168935e-35</td>\n",
       "      <td>3.339395e-36</td>\n",
       "      <td>-9.499977e-36</td>\n",
       "    </tr>\n",
       "    <tr>\n",
       "      <th>...</th>\n",
       "      <td>...</td>\n",
       "      <td>...</td>\n",
       "      <td>...</td>\n",
       "      <td>...</td>\n",
       "      <td>...</td>\n",
       "      <td>...</td>\n",
       "      <td>...</td>\n",
       "      <td>...</td>\n",
       "      <td>...</td>\n",
       "      <td>...</td>\n",
       "      <td>...</td>\n",
       "      <td>...</td>\n",
       "      <td>...</td>\n",
       "      <td>...</td>\n",
       "      <td>...</td>\n",
       "      <td>...</td>\n",
       "      <td>...</td>\n",
       "      <td>...</td>\n",
       "      <td>...</td>\n",
       "      <td>...</td>\n",
       "      <td>...</td>\n",
       "    </tr>\n",
       "    <tr>\n",
       "      <th>59995</th>\n",
       "      <td>0.0</td>\n",
       "      <td>9.714228e-59</td>\n",
       "      <td>-1.104712e-58</td>\n",
       "      <td>2.612408e-59</td>\n",
       "      <td>-1.109189e-57</td>\n",
       "      <td>3.773397e-57</td>\n",
       "      <td>-1.398440e-56</td>\n",
       "      <td>-2.690031e-55</td>\n",
       "      <td>7.041810e-56</td>\n",
       "      <td>-9.423559e-56</td>\n",
       "      <td>...</td>\n",
       "      <td>3.724615e-40</td>\n",
       "      <td>1.404305e-43</td>\n",
       "      <td>-8.383372e-43</td>\n",
       "      <td>2.982175e-43</td>\n",
       "      <td>1.769836e-42</td>\n",
       "      <td>5.033417e-43</td>\n",
       "      <td>1.851996e-44</td>\n",
       "      <td>1.655383e-44</td>\n",
       "      <td>6.655674e-45</td>\n",
       "      <td>3.732077e-46</td>\n",
       "    </tr>\n",
       "    <tr>\n",
       "      <th>59996</th>\n",
       "      <td>0.0</td>\n",
       "      <td>-1.175860e-58</td>\n",
       "      <td>-6.101411e-58</td>\n",
       "      <td>-1.105961e-57</td>\n",
       "      <td>-1.153417e-56</td>\n",
       "      <td>-1.393208e-56</td>\n",
       "      <td>5.706672e-56</td>\n",
       "      <td>-2.551179e-55</td>\n",
       "      <td>-9.695691e-56</td>\n",
       "      <td>4.558128e-54</td>\n",
       "      <td>...</td>\n",
       "      <td>1.915220e-41</td>\n",
       "      <td>3.278229e-43</td>\n",
       "      <td>-4.417431e-43</td>\n",
       "      <td>-3.208815e-43</td>\n",
       "      <td>2.749251e-43</td>\n",
       "      <td>4.199171e-44</td>\n",
       "      <td>-3.809182e-44</td>\n",
       "      <td>4.402371e-45</td>\n",
       "      <td>1.258270e-45</td>\n",
       "      <td>-2.558513e-46</td>\n",
       "    </tr>\n",
       "    <tr>\n",
       "      <th>59997</th>\n",
       "      <td>0.0</td>\n",
       "      <td>-1.219890e-57</td>\n",
       "      <td>-1.113076e-57</td>\n",
       "      <td>-1.153320e-56</td>\n",
       "      <td>-5.471201e-56</td>\n",
       "      <td>-1.876461e-55</td>\n",
       "      <td>3.974648e-55</td>\n",
       "      <td>-9.715228e-56</td>\n",
       "      <td>-6.613862e-55</td>\n",
       "      <td>7.962940e-54</td>\n",
       "      <td>...</td>\n",
       "      <td>-1.401758e-41</td>\n",
       "      <td>-1.249935e-42</td>\n",
       "      <td>-3.990744e-43</td>\n",
       "      <td>1.459307e-43</td>\n",
       "      <td>1.092740e-43</td>\n",
       "      <td>1.199961e-44</td>\n",
       "      <td>-1.267595e-44</td>\n",
       "      <td>-7.511008e-46</td>\n",
       "      <td>-5.905792e-46</td>\n",
       "      <td>-6.687307e-47</td>\n",
       "    </tr>\n",
       "    <tr>\n",
       "      <th>59998</th>\n",
       "      <td>0.0</td>\n",
       "      <td>1.462915e-56</td>\n",
       "      <td>-7.463740e-56</td>\n",
       "      <td>2.402697e-55</td>\n",
       "      <td>-9.004607e-55</td>\n",
       "      <td>3.274909e-54</td>\n",
       "      <td>-1.324934e-53</td>\n",
       "      <td>4.964089e-53</td>\n",
       "      <td>-1.823778e-52</td>\n",
       "      <td>5.911263e-52</td>\n",
       "      <td>...</td>\n",
       "      <td>6.291324e-42</td>\n",
       "      <td>6.249676e-43</td>\n",
       "      <td>-1.591952e-43</td>\n",
       "      <td>-1.290173e-43</td>\n",
       "      <td>-9.795457e-45</td>\n",
       "      <td>3.108637e-45</td>\n",
       "      <td>-1.369165e-45</td>\n",
       "      <td>-5.002611e-46</td>\n",
       "      <td>-2.520926e-46</td>\n",
       "      <td>-2.403860e-47</td>\n",
       "    </tr>\n",
       "    <tr>\n",
       "      <th>59999</th>\n",
       "      <td>0.0</td>\n",
       "      <td>5.789714e-57</td>\n",
       "      <td>-1.113076e-57</td>\n",
       "      <td>-1.337411e-57</td>\n",
       "      <td>-1.392886e-56</td>\n",
       "      <td>-2.451347e-56</td>\n",
       "      <td>3.974648e-55</td>\n",
       "      <td>-9.715228e-56</td>\n",
       "      <td>9.779101e-54</td>\n",
       "      <td>-3.379901e-53</td>\n",
       "      <td>...</td>\n",
       "      <td>1.766649e-42</td>\n",
       "      <td>-1.737379e-43</td>\n",
       "      <td>4.934108e-44</td>\n",
       "      <td>1.140604e-44</td>\n",
       "      <td>2.775332e-45</td>\n",
       "      <td>-6.120803e-46</td>\n",
       "      <td>-4.145922e-46</td>\n",
       "      <td>-5.045161e-47</td>\n",
       "      <td>2.248889e-47</td>\n",
       "      <td>-6.661029e-48</td>\n",
       "    </tr>\n",
       "  </tbody>\n",
       "</table>\n",
       "<p>60000 rows × 784 columns</p>\n",
       "</div>"
      ],
      "text/plain": [
       "       0             1             2             3             4    \\\n",
       "0      0.0 -6.050559e-63  2.484492e-64 -7.705281e-63 -1.926006e-62   \n",
       "1      0.0  2.033891e-63 -7.554452e-63 -2.894142e-62 -1.173355e-61   \n",
       "2      0.0  2.404680e-62 -1.013992e-62 -3.696616e-62 -3.087216e-61   \n",
       "3      0.0  6.829320e-62  4.082153e-62 -1.537916e-61 -7.091519e-61   \n",
       "4      0.0 -6.540072e-64 -1.531462e-61 -8.685036e-62  3.300905e-60   \n",
       "...    ...           ...           ...           ...           ...   \n",
       "59995  0.0  9.714228e-59 -1.104712e-58  2.612408e-59 -1.109189e-57   \n",
       "59996  0.0 -1.175860e-58 -6.101411e-58 -1.105961e-57 -1.153417e-56   \n",
       "59997  0.0 -1.219890e-57 -1.113076e-57 -1.153320e-56 -5.471201e-56   \n",
       "59998  0.0  1.462915e-56 -7.463740e-56  2.402697e-55 -9.004607e-55   \n",
       "59999  0.0  5.789714e-57 -1.113076e-57 -1.337411e-57 -1.392886e-56   \n",
       "\n",
       "                5             6             7             8             9    \\\n",
       "0      4.098996e-62 -1.641467e-61 -6.704701e-63 -4.631871e-60  1.666729e-59   \n",
       "1      1.676859e-61  4.967257e-61  3.446125e-60  2.367917e-59  3.625433e-59   \n",
       "2     -1.334035e-60 -1.667181e-60  1.422577e-59  1.140301e-58  1.270633e-58   \n",
       "3     -1.676862e-60 -1.560856e-59 -4.541398e-59  1.275667e-58 -2.657164e-58   \n",
       "4      4.307675e-60 -8.525096e-59 -3.503247e-58  3.713855e-58  1.254421e-57   \n",
       "...             ...           ...           ...           ...           ...   \n",
       "59995  3.773397e-57 -1.398440e-56 -2.690031e-55  7.041810e-56 -9.423559e-56   \n",
       "59996 -1.393208e-56  5.706672e-56 -2.551179e-55 -9.695691e-56  4.558128e-54   \n",
       "59997 -1.876461e-55  3.974648e-55 -9.715228e-56 -6.613862e-55  7.962940e-54   \n",
       "59998  3.274909e-54 -1.324934e-53  4.964089e-53 -1.823778e-52  5.911263e-52   \n",
       "59999 -2.451347e-56  3.974648e-55 -9.715228e-56  9.779101e-54 -3.379901e-53   \n",
       "\n",
       "       ...           774           775           776           777  \\\n",
       "0      ... -2.650094e-33 -1.642508e-33 -1.206340e-34  6.670655e-35   \n",
       "1      ...  2.121610e-32  4.689517e-33 -1.166673e-33 -3.117138e-34   \n",
       "2      ... -1.646441e-31 -2.809336e-32 -1.071641e-32 -8.781889e-34   \n",
       "3      ... -7.724205e-31 -1.892945e-31 -1.114558e-32 -3.012582e-33   \n",
       "4      ... -7.932661e-31 -3.963316e-31 -4.807934e-32 -1.118194e-32   \n",
       "...    ...           ...           ...           ...           ...   \n",
       "59995  ...  3.724615e-40  1.404305e-43 -8.383372e-43  2.982175e-43   \n",
       "59996  ...  1.915220e-41  3.278229e-43 -4.417431e-43 -3.208815e-43   \n",
       "59997  ... -1.401758e-41 -1.249935e-42 -3.990744e-43  1.459307e-43   \n",
       "59998  ...  6.291324e-42  6.249676e-43 -1.591952e-43 -1.290173e-43   \n",
       "59999  ...  1.766649e-42 -1.737379e-43  4.934108e-44  1.140604e-44   \n",
       "\n",
       "                778           779           780           781           782  \\\n",
       "0      1.261862e-36  6.486907e-36 -1.261013e-37 -1.050304e-37  7.602508e-38   \n",
       "1      9.738101e-38 -1.367638e-35 -1.046723e-35 -4.451920e-36 -1.720482e-37   \n",
       "2      1.698767e-34  3.016301e-35  1.369949e-36  4.683762e-37 -1.174584e-36   \n",
       "3     -1.455995e-33 -5.041987e-34 -1.443474e-34 -1.679373e-35 -1.116336e-35   \n",
       "4     -5.583831e-33 -2.064288e-33 -5.779131e-34  3.168935e-35  3.339395e-36   \n",
       "...             ...           ...           ...           ...           ...   \n",
       "59995  1.769836e-42  5.033417e-43  1.851996e-44  1.655383e-44  6.655674e-45   \n",
       "59996  2.749251e-43  4.199171e-44 -3.809182e-44  4.402371e-45  1.258270e-45   \n",
       "59997  1.092740e-43  1.199961e-44 -1.267595e-44 -7.511008e-46 -5.905792e-46   \n",
       "59998 -9.795457e-45  3.108637e-45 -1.369165e-45 -5.002611e-46 -2.520926e-46   \n",
       "59999  2.775332e-45 -6.120803e-46 -4.145922e-46 -5.045161e-47  2.248889e-47   \n",
       "\n",
       "                783  \n",
       "0     -5.801061e-38  \n",
       "1      2.030371e-37  \n",
       "2     -5.660588e-37  \n",
       "3     -5.508985e-36  \n",
       "4     -9.499977e-36  \n",
       "...             ...  \n",
       "59995  3.732077e-46  \n",
       "59996 -2.558513e-46  \n",
       "59997 -6.687307e-47  \n",
       "59998 -2.403860e-47  \n",
       "59999 -6.661029e-48  \n",
       "\n",
       "[60000 rows x 784 columns]"
      ]
     },
     "execution_count": 40,
     "metadata": {},
     "output_type": "execute_result"
    }
   ],
   "source": [
    "pd.DataFrame(x_rshift)"
   ]
  },
  {
   "cell_type": "code",
   "execution_count": 41,
   "id": "121598c7",
   "metadata": {},
   "outputs": [],
   "source": [
    "a = pd.DataFrame(y_train)\n",
    "\n",
    "b= pd.concat([a]*5, ignore_index = True)"
   ]
  },
  {
   "cell_type": "code",
   "execution_count": 42,
   "id": "3c93f302",
   "metadata": {},
   "outputs": [],
   "source": [
    "Y_train = b"
   ]
  },
  {
   "cell_type": "code",
   "execution_count": 43,
   "id": "38de904a",
   "metadata": {},
   "outputs": [
    {
     "data": {
      "text/html": [
       "<div>\n",
       "<style scoped>\n",
       "    .dataframe tbody tr th:only-of-type {\n",
       "        vertical-align: middle;\n",
       "    }\n",
       "\n",
       "    .dataframe tbody tr th {\n",
       "        vertical-align: top;\n",
       "    }\n",
       "\n",
       "    .dataframe thead th {\n",
       "        text-align: right;\n",
       "    }\n",
       "</style>\n",
       "<table border=\"1\" class=\"dataframe\">\n",
       "  <thead>\n",
       "    <tr style=\"text-align: right;\">\n",
       "      <th></th>\n",
       "      <th>class</th>\n",
       "    </tr>\n",
       "  </thead>\n",
       "  <tbody>\n",
       "    <tr>\n",
       "      <th>0</th>\n",
       "      <td>5</td>\n",
       "    </tr>\n",
       "    <tr>\n",
       "      <th>1</th>\n",
       "      <td>0</td>\n",
       "    </tr>\n",
       "    <tr>\n",
       "      <th>2</th>\n",
       "      <td>4</td>\n",
       "    </tr>\n",
       "    <tr>\n",
       "      <th>3</th>\n",
       "      <td>1</td>\n",
       "    </tr>\n",
       "    <tr>\n",
       "      <th>4</th>\n",
       "      <td>9</td>\n",
       "    </tr>\n",
       "    <tr>\n",
       "      <th>...</th>\n",
       "      <td>...</td>\n",
       "    </tr>\n",
       "    <tr>\n",
       "      <th>299995</th>\n",
       "      <td>8</td>\n",
       "    </tr>\n",
       "    <tr>\n",
       "      <th>299996</th>\n",
       "      <td>3</td>\n",
       "    </tr>\n",
       "    <tr>\n",
       "      <th>299997</th>\n",
       "      <td>5</td>\n",
       "    </tr>\n",
       "    <tr>\n",
       "      <th>299998</th>\n",
       "      <td>6</td>\n",
       "    </tr>\n",
       "    <tr>\n",
       "      <th>299999</th>\n",
       "      <td>8</td>\n",
       "    </tr>\n",
       "  </tbody>\n",
       "</table>\n",
       "<p>300000 rows × 1 columns</p>\n",
       "</div>"
      ],
      "text/plain": [
       "        class\n",
       "0           5\n",
       "1           0\n",
       "2           4\n",
       "3           1\n",
       "4           9\n",
       "...       ...\n",
       "299995      8\n",
       "299996      3\n",
       "299997      5\n",
       "299998      6\n",
       "299999      8\n",
       "\n",
       "[300000 rows x 1 columns]"
      ]
     },
     "execution_count": 43,
     "metadata": {},
     "output_type": "execute_result"
    }
   ],
   "source": [
    "b"
   ]
  },
  {
   "cell_type": "code",
   "execution_count": 44,
   "id": "a3bef8d5",
   "metadata": {},
   "outputs": [],
   "source": [
    "x_train_new = np.asarray(x_train)"
   ]
  },
  {
   "cell_type": "code",
   "execution_count": 45,
   "id": "51efe840",
   "metadata": {},
   "outputs": [],
   "source": [
    "X_train = np.concatenate ((x_train_new,x_rshift,x_lshift,x_ushift,x_dshift), axis = 0)"
   ]
  },
  {
   "cell_type": "code",
   "execution_count": 46,
   "id": "56743ffa",
   "metadata": {},
   "outputs": [
    {
     "data": {
      "text/plain": [
       "(300000, 784)"
      ]
     },
     "execution_count": 46,
     "metadata": {},
     "output_type": "execute_result"
    }
   ],
   "source": [
    "X_train.shape"
   ]
  },
  {
   "cell_type": "code",
   "execution_count": 57,
   "id": "f554c683",
   "metadata": {},
   "outputs": [
    {
     "data": {
      "text/plain": [
       "array([[5],\n",
       "       [0],\n",
       "       [4],\n",
       "       ...,\n",
       "       [5],\n",
       "       [6],\n",
       "       [8]], dtype=int8)"
      ]
     },
     "execution_count": 57,
     "metadata": {},
     "output_type": "execute_result"
    }
   ],
   "source": [
    "Y_train = np.asarray(b)\n",
    "\n",
    "Y_train"
   ]
  },
  {
   "cell_type": "markdown",
   "id": "480d45e1",
   "metadata": {},
   "source": [
    "### modelling"
   ]
  },
  {
   "cell_type": "code",
   "execution_count": 60,
   "id": "3708f2fb",
   "metadata": {},
   "outputs": [
    {
     "data": {
      "text/plain": [
       "array([[ True],\n",
       "       [False],\n",
       "       [False],\n",
       "       ...,\n",
       "       [ True],\n",
       "       [False],\n",
       "       [False]])"
      ]
     },
     "execution_count": 60,
     "metadata": {},
     "output_type": "execute_result"
    }
   ],
   "source": [
    "Y_trL = (Y_train==5)\n",
    "\n",
    "Y_trL"
   ]
  },
  {
   "cell_type": "code",
   "execution_count": 61,
   "id": "17b87763",
   "metadata": {},
   "outputs": [
    {
     "name": "stderr",
     "output_type": "stream",
     "text": [
      "C:\\Users\\DELL\\anaconda3\\lib\\site-packages\\sklearn\\utils\\validation.py:993: DataConversionWarning: A column-vector y was passed when a 1d array was expected. Please change the shape of y to (n_samples, ), for example using ravel().\n",
      "  y = column_or_1d(y, warn=True)\n"
     ]
    },
    {
     "data": {
      "text/plain": [
       "SGDClassifier()"
      ]
     },
     "execution_count": 61,
     "metadata": {},
     "output_type": "execute_result"
    }
   ],
   "source": [
    "from sklearn.linear_model import SGDClassifier\n",
    "sgd_clf = SGDClassifier()\n",
    "sgd_clf.fit(X_train, Y_trL)"
   ]
  },
  {
   "cell_type": "code",
   "execution_count": 107,
   "id": "d4246059",
   "metadata": {},
   "outputs": [
    {
     "ename": "AttributeError",
     "evalue": "'numpy.ndarray' object has no attribute 'value_counts'",
     "output_type": "error",
     "traceback": [
      "\u001b[1;31m---------------------------------------------------------------------------\u001b[0m",
      "\u001b[1;31mAttributeError\u001b[0m                            Traceback (most recent call last)",
      "\u001b[1;32m~\\AppData\\Local\\Temp\\ipykernel_7524\\3794356691.py\u001b[0m in \u001b[0;36m<module>\u001b[1;34m\u001b[0m\n\u001b[1;32m----> 1\u001b[1;33m \u001b[0mY_trL\u001b[0m\u001b[1;33m.\u001b[0m\u001b[0mvalue_counts\u001b[0m\u001b[1;33m(\u001b[0m\u001b[1;33m)\u001b[0m\u001b[1;33m\u001b[0m\u001b[1;33m\u001b[0m\u001b[0m\n\u001b[0m",
      "\u001b[1;31mAttributeError\u001b[0m: 'numpy.ndarray' object has no attribute 'value_counts'"
     ]
    }
   ],
   "source": []
  },
  {
   "cell_type": "markdown",
   "id": "001468af",
   "metadata": {},
   "source": [
    "### Cross-Validation"
   ]
  },
  {
   "cell_type": "code",
   "execution_count": 62,
   "id": "285b1a10",
   "metadata": {},
   "outputs": [
    {
     "name": "stderr",
     "output_type": "stream",
     "text": [
      "C:\\Users\\DELL\\anaconda3\\lib\\site-packages\\sklearn\\utils\\validation.py:993: DataConversionWarning: A column-vector y was passed when a 1d array was expected. Please change the shape of y to (n_samples, ), for example using ravel().\n",
      "  y = column_or_1d(y, warn=True)\n",
      "C:\\Users\\DELL\\anaconda3\\lib\\site-packages\\sklearn\\utils\\validation.py:993: DataConversionWarning: A column-vector y was passed when a 1d array was expected. Please change the shape of y to (n_samples, ), for example using ravel().\n",
      "  y = column_or_1d(y, warn=True)\n",
      "C:\\Users\\DELL\\anaconda3\\lib\\site-packages\\sklearn\\utils\\validation.py:993: DataConversionWarning: A column-vector y was passed when a 1d array was expected. Please change the shape of y to (n_samples, ), for example using ravel().\n",
      "  y = column_or_1d(y, warn=True)\n"
     ]
    },
    {
     "data": {
      "text/plain": [
       "array([0.86235, 0.90994, 0.82546])"
      ]
     },
     "execution_count": 62,
     "metadata": {},
     "output_type": "execute_result"
    }
   ],
   "source": [
    "from sklearn.model_selection import cross_val_score\n",
    "cross_val_score(sgd_clf, X_train, Y_trL, cv=3, scoring=\"accuracy\")"
   ]
  },
  {
   "cell_type": "markdown",
   "id": "6b83b637",
   "metadata": {},
   "source": [
    "### Confusion Matrix"
   ]
  },
  {
   "cell_type": "code",
   "execution_count": 63,
   "id": "322a0838",
   "metadata": {},
   "outputs": [
    {
     "name": "stderr",
     "output_type": "stream",
     "text": [
      "C:\\Users\\DELL\\anaconda3\\lib\\site-packages\\sklearn\\utils\\validation.py:993: DataConversionWarning: A column-vector y was passed when a 1d array was expected. Please change the shape of y to (n_samples, ), for example using ravel().\n",
      "  y = column_or_1d(y, warn=True)\n",
      "C:\\Users\\DELL\\anaconda3\\lib\\site-packages\\sklearn\\utils\\validation.py:993: DataConversionWarning: A column-vector y was passed when a 1d array was expected. Please change the shape of y to (n_samples, ), for example using ravel().\n",
      "  y = column_or_1d(y, warn=True)\n",
      "C:\\Users\\DELL\\anaconda3\\lib\\site-packages\\sklearn\\utils\\validation.py:993: DataConversionWarning: A column-vector y was passed when a 1d array was expected. Please change the shape of y to (n_samples, ), for example using ravel().\n",
      "  y = column_or_1d(y, warn=True)\n"
     ]
    }
   ],
   "source": [
    "from sklearn.model_selection import cross_val_predict\n",
    "y_train_pred=cross_val_predict(sgd_clf, X_train, Y_trL, cv=3)"
   ]
  },
  {
   "cell_type": "code",
   "execution_count": 64,
   "id": "d9dd39e4",
   "metadata": {},
   "outputs": [
    {
     "data": {
      "text/plain": [
       "array([[251739,  21156],\n",
       "       [ 19552,   7553]], dtype=int64)"
      ]
     },
     "execution_count": 64,
     "metadata": {},
     "output_type": "execute_result"
    }
   ],
   "source": [
    "from sklearn.metrics import confusion_matrix\n",
    "cf_matrix=confusion_matrix(Y_trL, y_train_pred)\n",
    "\n",
    "cf_matrix"
   ]
  },
  {
   "cell_type": "code",
   "execution_count": 66,
   "id": "404b78ae",
   "metadata": {},
   "outputs": [],
   "source": [
    "from sklearn.metrics import ConfusionMatrixDisplay"
   ]
  },
  {
   "cell_type": "code",
   "execution_count": 67,
   "id": "84fce0a8",
   "metadata": {},
   "outputs": [
    {
     "data": {
      "text/plain": [
       "<sklearn.metrics._plot.confusion_matrix.ConfusionMatrixDisplay at 0x226336d91f0>"
      ]
     },
     "execution_count": 67,
     "metadata": {},
     "output_type": "execute_result"
    },
    {
     "data": {
      "image/png": "[encoded data removed]",
      "text/plain": [
       "<Figure size 640x480 with 2 Axes>"
      ]
     },
     "metadata": {},
     "output_type": "display_data"
    }
   ],
   "source": [
    "ConfusionMatrixDisplay.from_predictions(Y_trL, y_train_pred)"
   ]
  },
  {
   "cell_type": "markdown",
   "id": "28184bf9",
   "metadata": {},
   "source": [
    "### Model Accuracy with respect to each class"
   ]
  },
  {
   "cell_type": "code",
   "execution_count": 109,
   "id": "4019c43a",
   "metadata": {},
   "outputs": [
    {
     "name": "stdout",
     "output_type": "stream",
     "text": [
      "              precision    recall  f1-score   support\n",
      "\n",
      "     class 5       0.93      0.92      0.93    272895\n",
      " Class Not 5       0.26      0.28      0.27     27105\n",
      "\n",
      "    accuracy                           0.86    300000\n",
      "   macro avg       0.60      0.60      0.60    300000\n",
      "weighted avg       0.87      0.86      0.87    300000\n",
      "\n"
     ]
    }
   ],
   "source": [
    "from sklearn.metrics import classification_report\n",
    "target_names=['class 5','Class Not 5']\n",
    "print(classification_report(Y_trL, y_train_pred,target_names=target_names))"
   ]
  },
  {
   "cell_type": "markdown",
   "id": "909d268c",
   "metadata": {},
   "source": [
    "### Testing"
   ]
  },
  {
   "cell_type": "code",
   "execution_count": 69,
   "id": "92e9c93a",
   "metadata": {},
   "outputs": [
    {
     "data": {
      "text/plain": [
       "(10000, 784)"
      ]
     },
     "execution_count": 69,
     "metadata": {},
     "output_type": "execute_result"
    }
   ],
   "source": [
    "x_test.shape"
   ]
  },
  {
   "cell_type": "code",
   "execution_count": 70,
   "id": "9e681ae5",
   "metadata": {},
   "outputs": [
    {
     "data": {
      "text/plain": [
       "(10000,)"
      ]
     },
     "execution_count": 70,
     "metadata": {},
     "output_type": "execute_result"
    }
   ],
   "source": [
    "y_test.shape"
   ]
  },
  {
   "cell_type": "code",
   "execution_count": 91,
   "id": "708ae71e",
   "metadata": {},
   "outputs": [],
   "source": [
    "some_digit=x_test.iloc[0,:].values"
   ]
  },
  {
   "cell_type": "code",
   "execution_count": 92,
   "id": "0024177a",
   "metadata": {
    "scrolled": true
   },
   "outputs": [
    {
     "data": {
      "text/plain": [
       "array([False])"
      ]
     },
     "execution_count": 92,
     "metadata": {},
     "output_type": "execute_result"
    }
   ],
   "source": [
    "sgd_clf.predict([some_digit])"
   ]
  },
  {
   "cell_type": "markdown",
   "id": "759146d8",
   "metadata": {},
   "source": [
    "##### Cross checking from the target to verify the image:"
   ]
  },
  {
   "cell_type": "code",
   "execution_count": 101,
   "id": "a91ae624",
   "metadata": {},
   "outputs": [
    {
     "data": {
      "image/png": "[encoded data removed]",
      "text/plain": [
       "<Figure size 640x480 with 1 Axes>"
      ]
     },
     "metadata": {},
     "output_type": "display_data"
    }
   ],
   "source": [
    "some_digit = x_test[0:1]\n",
    "some_digit_arr = np.asarray(some_digit)\n",
    "some_digit_image = some_digit_arr.reshape(28, 28)\n",
    "\n",
    "plt.imshow(some_digit_image, cmap=\"binary\")\n",
    "\n",
    "\n",
    "plt.show()"
   ]
  },
  {
   "attachments": {},
   "cell_type": "markdown",
   "id": "d83723df",
   "metadata": {},
   "source": [
    "The image as seen from the target or label is 7 and not 5! This means the model has predicted accurately.\n",
    "\n"
   ]
  }
 ],
 "metadata": {
  "kernelspec": {
   "display_name": "Python 3 (ipykernel)",
   "language": "python",
   "name": "python3"
  },
  "language_info": {
   "codemirror_mode": {
    "name": "ipython",
    "version": 3
   },
   "file_extension": ".py",
   "mimetype": "text/x-python",
   "name": "python",
   "nbconvert_exporter": "python",
   "pygments_lexer": "ipython3",
   "version": "3.9.13"
  }
 },
 "nbformat": 4,
 "nbformat_minor": 5
}
